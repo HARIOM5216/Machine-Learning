{
  "nbformat": 4,
  "nbformat_minor": 0,
  "metadata": {
    "colab": {
      "provenance": []
    },
    "kernelspec": {
      "name": "python3",
      "display_name": "Python 3"
    },
    "language_info": {
      "name": "python"
    }
  },
  "cells": [
    {
      "cell_type": "markdown",
      "source": [
        "#Machine Learning Intro | Assignment"
      ],
      "metadata": {
        "id": "tfHir4foOmKv"
      }
    },
    {
      "cell_type": "markdown",
      "source": [
        "Question 1: Explain the differences between AI, ML, Deep Learning (DL), and Data\n",
        "Science (DS).\n",
        "\n",
        "  - AI (Artificial Intelligence) is the broadest concept. It's about creating machines that can perform tasks that typically require human intelligence, like learning, problem-solving, and decision-making.\n",
        "\n",
        "  - ML (Machine Learning) is a subset of AI. It focuses on enabling machines to learn from data without being explicitly programmed. Algorithms are trained on data to make predictions or decisions.\n",
        "\n",
        "  - DL (Deep Learning) is a subset of ML. It uses artificial neural networks with multiple layers (hence \"deep\") to analyze data. This allows for more complex pattern recognition, especially in areas like image and speech recognition.\n",
        "\n",
        "  - DS (Data Science) is a multidisciplinary field that uses scientific methods, processes, algorithms, and systems to extract knowledge and insights from structured and unstructured data. It encompasses various techniques, including ML and DL, to analyze data and solve problems.\n",
        "\n",
        "  Question 2: What are the types of machine learning? Describe each with one\n",
        "real-world example.\n",
        "\n",
        "  1.  Supervised Learning: The algorithm learns from a labeled dataset, where the input data is paired with the correct output. The goal is to learn a mapping function that can predict the output for new, unseen input data.\n",
        "      - Example: Spam detection. The algorithm is trained on a dataset of emails labeled as \"spam\" or \"not spam\". It then learns to classify new emails based on patterns and features it identifies in the training data.\n",
        "  2.  Unsupervised Learning: The algorithm learns from an unlabeled dataset. The algorithm's goal is to find hidden patterns, structures, or relationships within the data.\n",
        "      -  Example: Customer segmentation. An algorithm analyzes customer data (purchase history, demographics, etc.) to identify distinct groups or segments of customers with similar characteristics.\n",
        "  3.  Semi-Supervised Learning: This combines elements of both supervised and unsupervised learning. The algorithm is trained on a dataset that contains both labeled and unlabeled data. This can be useful when obtaining labeled data is expensive or time-consuming.\n",
        "        - Example: Image classification. A model is trained on a small set of labeled images and a larger set of unlabeled images. The labeled data helps guide the learning process, while the unlabeled data provides additional information to improve accuracy.\n",
        "  4.  Reinforcement Learning: An agent learns to make decisions in an environment to maximize a reward. The agent learns through trial and error, receiving feedback in the form of rewards or penalties for its actions.\n",
        "      - Example: Game playing. An AI agent learns to play a game (e.g., chess or Go) by taking actions and receiving rewards for winning or penalties for losing. Through repeated play, the agent learns the optimal strategies to maximize its score.\n",
        "\n",
        "\n",
        "Question 3: Define overfitting, underfitting, and the bias-variance tradeoff in machine\n",
        "learning.\n",
        "\n",
        "\n",
        "  - Overfitting: Overfitting occurs when a machine learning model learns the training data too well, including the noise and random fluctuations. As a result, the model performs very well on the training data but poorly on new, unseen data (test data). The model has essentially memorized the training data instead of learning the underlying patterns.\n",
        "\n",
        "  - Underfitting: Underfitting occurs when a machine learning model is too simple to capture the underlying patterns in the data. The model performs poorly on both the training data and new data because it has not learned the relationships between the input features and the target variable.\n",
        "\n",
        "  - Bias-Variance Tradeoff: This is a fundamental concept in machine learning that describes the relationship between a model's bias and variance.\n",
        "      - Bias: Bias refers to the error introduced by approximating a real-world problem, which may be complex, by a simplified model. A high-bias model makes strong assumptions about the data and tends to underfit.\n",
        "      - Variance: Variance refers to the model's sensitivity to changes in the training data. A high-variance model learns the training data too well and is sensitive to the noise and random fluctuations in the data, leading to overfitting.\n",
        "      - Tradeoff: The goal is to find a balance between bias and variance. A model with low bias and low variance is ideal, but in practice, there is often a tradeoff. Reducing bias often increases variance, and vice versa. The goal is to find the sweet spot that minimizes the overall error on new, unseen data.\n",
        "\n",
        "Question 4: What are outliers in a dataset, and list three common techniques for\n",
        "handling them.\n",
        "  - Outliers are data points that significantly differ from other observations in a dataset. They can be caused by measurement errors, data entry errors, or simply represent rare events. Outliers can have a substantial impact on statistical analyses and machine learning models, potentially leading to misleading results or poor performance.\n",
        "\n",
        "Common techniques for handling outliers:\n",
        "  - Removal: This involves deleting the outlier data points from the dataset. This approach is suitable when the outliers are known to be errors or when they are not representative of the underlying population.\n",
        "  - Transformation: This involves transforming the data to reduce the impact of outliers. Common transformations include:\n",
        "    -   Log transformation: Useful for positive skewed data.\n",
        "    -   Square root transformation: Also useful for positive skewed data.\n",
        "    -   Winsorizing: Setting extreme values to a specified percentile.\n",
        "  - Imputation: This involves replacing the outlier values with more reasonable values. Common imputation methods include:\n",
        "    -   Mean/Median imputation: Replacing outliers with the mean or median of the non-outlier data.\n",
        "    -   Using a model: Predicting the outlier values based on other variables in the dataset.\n",
        "\n",
        "Question 5: Explain the process of handling missing values and mention one\n",
        "imputation technique for numerical and one for categorical data.\n",
        "  - Missing values are data points that are not available in a dataset. These can occur for various reasons, such as data entry errors, equipment malfunctions, or simply the data not being collected. Missing values can cause problems for many machine learning algorithms, which often cannot handle them directly.\n",
        "\n",
        "The process of handling missing values:\n",
        "\n",
        "1. The first step is to identify missing values in your dataset. This can be done by checking for `NaN` (Not a Number) or `None` values in the data.\n",
        "2. It's important to understand why the values are missing. There are three main types of missingness:\n",
        "    -   Missing Completely at Random (MCAR): The missingness is unrelated to any other variables.\n",
        "    -   Missing at Random (MAR): The missingness depends on other observed variables but not on the missing variable itself.\n",
        "    -   Missing Not at Random (MNAR): The missingness depends on the missing variable itself.\n",
        "3. Depending on the type of missingness and the nature of the data, we can choose an appropriate imputation strategy.\n",
        "4. Apply the chosen imputation technique to fill in the missing values.\n",
        "5. After imputation, it's essential to evaluate the impact of the imputation on the analysis or model.\n",
        "\n",
        "Here's one imputation technique for numerical and one for categorical data:\n",
        "\n",
        "  - Numerical Data:\n",
        "    -   Mean Imputation: Replace missing numerical values with the mean of the non-missing values in that column.\n",
        "  - Categorical Data:\n",
        "    -   Mode Imputation: Replace missing categorical values with the mode (most frequent value) of the non-missing values in that column.\n",
        "\n",
        "\n",
        "\n",
        "\n"
      ],
      "metadata": {
        "id": "0NHfAH0DA4A6"
      }
    },
    {
      "cell_type": "markdown",
      "source": [
        "Question 6: Write a Python program that:\n",
        "● Creates a synthetic imbalanced dataset with make_classification() from\n",
        "sklearn.datasets.\n",
        "● Prints the class distribution."
      ],
      "metadata": {
        "id": "aFPcy1r7F3Ga"
      }
    },
    {
      "cell_type": "code",
      "execution_count": 1,
      "metadata": {
        "colab": {
          "base_uri": "https://localhost:8080/"
        },
        "id": "7H0ihpyhAwBO",
        "outputId": "44288867-e1cb-45d2-a82a-d6c552ed0b89"
      },
      "outputs": [
        {
          "output_type": "stream",
          "name": "stdout",
          "text": [
            "Class distribution: [[  0 897]\n",
            " [  1 103]]\n"
          ]
        }
      ],
      "source": [
        "from sklearn.datasets import make_classification\n",
        "import numpy as np\n",
        "\n",
        "# Create a synthetic imbalanced dataset\n",
        "X, y = make_classification(\n",
        "    n_samples=1000,  # Number of samples\n",
        "    n_features=20,  # Number of features\n",
        "    weights=[0.9, 0.1],  # Class distribution (90% class 0, 10% class 1)\n",
        "    random_state=42\n",
        ")\n",
        "\n",
        "# Print the class distribution\n",
        "unique_elements, counts_elements = np.unique(y, return_counts=True)\n",
        "print(\"Class distribution:\", np.asarray((unique_elements, counts_elements)).T)\n",
        "\n",
        "\n"
      ]
    },
    {
      "cell_type": "markdown",
      "source": [
        "Question 7: Implement one-hot encoding using pandas for the following list of colors:\n",
        "['Red', 'Green', 'Blue', 'Green', 'Red']. Print the resulting dataframe."
      ],
      "metadata": {
        "id": "gpdL0rwQGcgh"
      }
    },
    {
      "cell_type": "code",
      "source": [
        "import pandas as pd\n",
        "colors = ['Red', 'Green', 'Blue', 'Green', 'Red']\n",
        "\n",
        "color_series = pd.Series(colors)\n",
        "\n",
        "one_hot_encoded = pd.get_dummies(color_series, prefix='color')\n",
        "print(one_hot_encoded)\n",
        "\n"
      ],
      "metadata": {
        "colab": {
          "base_uri": "https://localhost:8080/"
        },
        "id": "daLGdKeAGQQ_",
        "outputId": "393dd04d-4bd9-46b2-da85-ad2e3d39293e"
      },
      "execution_count": 4,
      "outputs": [
        {
          "output_type": "stream",
          "name": "stdout",
          "text": [
            "   color_Blue  color_Green  color_Red\n",
            "0       False        False       True\n",
            "1       False         True      False\n",
            "2        True        False      False\n",
            "3       False         True      False\n",
            "4       False        False       True\n"
          ]
        }
      ]
    },
    {
      "cell_type": "markdown",
      "source": [
        "Question 8: Write a Python script to:\n",
        "● Generate 1000 samples from a normal distribution.\n",
        "● Introduce 50 random missing values.\n",
        "● Fill missing values with the column mean.\n",
        "● Plot a histogram before and after imputation.\n"
      ],
      "metadata": {
        "id": "Q1uycxnXG5ZJ"
      }
    },
    {
      "cell_type": "code",
      "source": [
        "import numpy as np\n",
        "import pandas as pd\n",
        "import matplotlib.pyplot as plt\n",
        "\n",
        "# Generate 1000 samples from a normal distribution\n",
        "np.random.seed(42)\n",
        "data = np.random.normal(loc=0, scale=1, size=1000)\n",
        "\n",
        "data_series = pd.Series(data)\n",
        "\n",
        "# Introduce 50 random missing values\n",
        "missing_indices = np.random.choice(data_series.index, size=50, replace=False)\n",
        "data_series.iloc[missing_indices] = np.nan\n",
        "\n",
        "# Plot histogram before imputation\n",
        "plt.figure(figsize=(12, 5))\n",
        "plt.subplot(1, 2, 1)\n",
        "plt.hist(data_series, bins=30, color='skyblue', edgecolor='black')\n",
        "plt.title('Histogram Before Imputation')\n",
        "plt.xlabel('Values')\n",
        "plt.ylabel('Frequency')\n",
        "\n",
        "# Fill missing values with the column mean\n",
        "data_imputed = data_series.fillna(data_series.mean())\n",
        "\n",
        "# Plot histogram after imputation\n",
        "plt.subplot(1, 2, 2)\n",
        "plt.hist(data_imputed, bins=30, color='lightgreen', edgecolor='black')\n",
        "plt.title('Histogram After Imputation')\n",
        "plt.xlabel('Values')\n",
        "plt.ylabel('Frequency')\n",
        "\n",
        "plt.tight_layout()\n",
        "plt.show()"
      ],
      "metadata": {
        "colab": {
          "base_uri": "https://localhost:8080/",
          "height": 459
        },
        "id": "C9m-XCXMGtrH",
        "outputId": "3bf4a9ba-8a44-45b1-b08f-cf4a00635b6a"
      },
      "execution_count": 5,
      "outputs": [
        {
          "output_type": "display_data",
          "data": {
            "text/plain": [
              "<Figure size 1200x500 with 2 Axes>"
            ],
            "image/png": "[encoded data removed]"
          },
          "metadata": {}
        }
      ]
    },
    {
      "cell_type": "markdown",
      "source": [
        "Question 9: Implement Min-Max scaling on the following list of numbers [2, 5, 10, 15,\n",
        "20] using sklearn.preprocessing.MinMaxScaler. Print the scaled array.\n"
      ],
      "metadata": {
        "id": "Td_KaNORHlfO"
      }
    },
    {
      "cell_type": "code",
      "source": [
        "from sklearn.preprocessing import MinMaxScaler\n",
        "import numpy as np\n",
        "\n",
        "data = np.array([2, 5, 10, 15, 20]).reshape(-1, 1)  # Reshape to a 2D array\n",
        "\n",
        "scaler = MinMaxScaler()\n",
        "\n",
        "scaled_data = scaler.fit_transform(data)\n",
        "print(scaled_data)"
      ],
      "metadata": {
        "colab": {
          "base_uri": "https://localhost:8080/"
        },
        "id": "NeHX4NLlHdHm",
        "outputId": "ad2314a0-d238-423a-e34a-d1c59efd5edc"
      },
      "execution_count": 6,
      "outputs": [
        {
          "output_type": "stream",
          "name": "stdout",
          "text": [
            "[[0.        ]\n",
            " [0.16666667]\n",
            " [0.44444444]\n",
            " [0.72222222]\n",
            " [1.        ]]\n"
          ]
        }
      ]
    },
    {
      "cell_type": "markdown",
      "source": [
        "Question 10: You are working as a data scientist for a retail company. You receive a customer\n",
        "transaction dataset that contains:\n",
        "● Missing ages,\n",
        "● Outliers in transaction amount,\n",
        "● A highly imbalanced target (fraud vs. non-fraud),\n",
        "● Categorical variables like payment method.\n",
        "Explain the step-by-step data preparation plan you’d follow before training a machine learning\n",
        "model. Include how you’d address missing data, outliers, imbalance, and encoding.\n"
      ],
      "metadata": {
        "id": "FGzA1IAiH6kR"
      }
    },
    {
      "cell_type": "code",
      "source": [
        "import pandas as pd\n",
        "import numpy as np\n",
        "from sklearn.impute import SimpleImputer\n",
        "from sklearn.preprocessing import StandardScaler, OneHotEncoder\n",
        "from sklearn.model_selection import train_test_split\n",
        "from imblearn.over_sampling import SMOTE\n",
        "from sklearn.linear_model import LogisticRegression\n",
        "from sklearn.metrics import classification_report, confusion_matrix\n",
        "\n",
        "\n",
        "data = pd.read_csv(\"retail_transactions.csv\")\n",
        "print(\"Initial Dataset:\")\n",
        "print(data.head(), \"\\n\")\n",
        "\n",
        "\n",
        "# 1. Handle Missing Values (Age)\n",
        "imputer = SimpleImputer(strategy=\"median\")\n",
        "data[\"Age\"] = imputer.fit_transform(data[[\"Age\"]])\n",
        "print(\"After Missing Value Treatment (Age):\")\n",
        "print(data.head(), \"\\n\")\n",
        "\n",
        "\n",
        "# 2. Handle Outliers (Log Transform TransactionAmount)\n",
        "\n",
        "data[\"TransactionAmount\"] = np.log1p(data[\"TransactionAmount\"])\n",
        "print(\"After Log Transform on TransactionAmount:\")\n",
        "print(data[[\"TransactionAmount\"]].head(), \"\\n\")\n",
        "\n",
        "\n",
        "# 3. Encode Categorical Variables (PaymentMethod)\n",
        "try:\n",
        "    encoder = OneHotEncoder(sparse_output=False, drop=\"first\")\n",
        "except TypeError:  # For older sklearn versions\n",
        "    encoder = OneHotEncoder(sparse=False, drop=\"first\")\n",
        "\n",
        "payment_encoded = encoder.fit_transform(data[[\"PaymentMethod\"]])\n",
        "payment_df = pd.DataFrame(payment_encoded, columns=encoder.get_feature_names_out([\"PaymentMethod\"]))\n",
        "data = pd.concat([data.drop(columns=[\"PaymentMethod\"]), payment_df], axis=1)\n",
        "\n",
        "print(\"After Encoding Payment Method:\")\n",
        "print(data.head(), \"\\n\")\n",
        "\n",
        "\n",
        "# 4. Train/Test Split\n",
        "X = data.drop(columns=[\"Fraud\", \"CustomerID\"])\n",
        "y = data[\"Fraud\"]\n",
        "\n",
        "X_train, X_test, y_train, y_test = train_test_split(\n",
        "    X, y, test_size=0.3, random_state=42, stratify=y\n",
        ")\n",
        "\n",
        "# 5. Handle Imbalance using SMOTE\n",
        "smote = SMOTE(random_state=42)\n",
        "X_train_bal, y_train_bal = smote.fit_resample(X_train, y_train)\n",
        "\n",
        "print(\"Class distribution after SMOTE:\")\n",
        "print(y_train_bal.value_counts(), \"\\n\")\n",
        "\n",
        "\n",
        "# 6. Feature Scaling\n",
        "scaler = StandardScaler()\n",
        "X_train_bal = scaler.fit_transform(X_train_bal)\n",
        "X_test = scaler.transform(X_test)\n",
        "\n",
        "# 7. Train a Simple Model (Logistic Regression)\n",
        "model = LogisticRegression(max_iter=1000)\n",
        "model.fit(X_train_bal, y_train_bal)\n",
        "\n",
        "y_pred = model.predict(X_test)\n",
        "\n",
        "# 8. Evaluation\n",
        "print(\"Confusion Matrix:\")\n",
        "print(confusion_matrix(y_test, y_pred), \"\\n\")\n",
        "\n",
        "print(\"Classification Report:\")\n",
        "print(classification_report(y_test, y_pred))"
      ],
      "metadata": {
        "colab": {
          "base_uri": "https://localhost:8080/"
        },
        "id": "lQaNQhHCNp4N",
        "outputId": "3756fc3d-d552-46d6-8582-ff13472984d1"
      },
      "execution_count": 21,
      "outputs": [
        {
          "output_type": "stream",
          "name": "stdout",
          "text": [
            "Initial Dataset:\n",
            "   CustomerID   Age  TransactionAmount PaymentMethod  Fraud\n",
            "0           1  69.0         460.837335           UPI      0\n",
            "1           2  32.0         483.896924    Debit Card      0\n",
            "2           3   NaN         540.675861           UPI      0\n",
            "3           4   NaN         438.456784    Debit Card      0\n",
            "4           5  38.0         511.372997   Credit Card      0 \n",
            "\n",
            "After Missing Value Treatment (Age):\n",
            "   CustomerID   Age  TransactionAmount PaymentMethod  Fraud\n",
            "0           1  69.0         460.837335           UPI      0\n",
            "1           2  32.0         483.896924    Debit Card      0\n",
            "2           3  41.0         540.675861           UPI      0\n",
            "3           4  41.0         438.456784    Debit Card      0\n",
            "4           5  38.0         511.372997   Credit Card      0 \n",
            "\n",
            "After Log Transform on TransactionAmount:\n",
            "   TransactionAmount\n",
            "0           6.135213\n",
            "1           6.183936\n",
            "2           6.294668\n",
            "3           6.085539\n",
            "4           6.239053 \n",
            "\n",
            "After Encoding Payment Method:\n",
            "   CustomerID   Age  TransactionAmount  Fraud  PaymentMethod_Debit Card  \\\n",
            "0           1  69.0           6.135213      0                       0.0   \n",
            "1           2  32.0           6.183936      0                       1.0   \n",
            "2           3  41.0           6.294668      0                       0.0   \n",
            "3           4  41.0           6.085539      0                       1.0   \n",
            "4           5  38.0           6.239053      0                       0.0   \n",
            "\n",
            "   PaymentMethod_Net Banking  PaymentMethod_UPI  \n",
            "0                        0.0                1.0  \n",
            "1                        0.0                0.0  \n",
            "2                        0.0                1.0  \n",
            "3                        0.0                0.0  \n",
            "4                        0.0                0.0   \n",
            "\n",
            "Class distribution after SMOTE:\n",
            "Fraud\n",
            "0    128\n",
            "1    128\n",
            "Name: count, dtype: int64 \n",
            "\n",
            "Confusion Matrix:\n",
            "[[34 21]\n",
            " [ 4  1]] \n",
            "\n",
            "Classification Report:\n",
            "              precision    recall  f1-score   support\n",
            "\n",
            "           0       0.89      0.62      0.73        55\n",
            "           1       0.05      0.20      0.07         5\n",
            "\n",
            "    accuracy                           0.58        60\n",
            "   macro avg       0.47      0.41      0.40        60\n",
            "weighted avg       0.82      0.58      0.68        60\n",
            "\n"
          ]
        }
      ]
    }
  ]
}